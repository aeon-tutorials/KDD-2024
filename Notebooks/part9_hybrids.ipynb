{
 "cells": [
  {
   "metadata": {},
   "cell_type": "markdown",
   "source": "`KDD2024 Tutorial / A Hands-On Introduction to Time Series Classification and Regression`"
  },
  {
   "cell_type": "markdown",
   "source": [
    "# Part9: Hybrid Estimators for Time Series Machine Learning in `aeon`\n",
    "\n",
    "`aeon` contains two hard coded hybrid classifiers, HIVE-COTEV1 (HC1) and HIVE-COTEV2\n",
    "(HC2). We will just use HC2 in this example.\n"
   ],
   "metadata": {
    "collapsed": false
   }
  },
  {
   "metadata": {},
   "cell_type": "code",
   "outputs": [],
   "execution_count": null,
   "source": [
    "!pip install aeon==0.11.0\n",
    "!mkdir -p data\n",
    "!wget -nc https://raw.githubusercontent.com/aeon-tutorials/KDD-2024/main/Notebooks/data/KDD_MTSC_TRAIN.ts -P data/\n",
    "!wget -nc https://raw.githubusercontent.com/aeon-tutorials/KDD-2024/main/Notebooks/data/KDD_MTSC_TEST.ts -P data/\n",
    "!wget -nc https://raw.githubusercontent.com/aeon-tutorials/KDD-2024/main/Notebooks/data/KDD_UTSC_TRAIN.ts -P data/\n",
    "!wget -nc https://raw.githubusercontent.com/aeon-tutorials/KDD-2024/main/Notebooks/data/KDD_UTSC_TEST.ts -P data/\n",
    "!wget -nc https://raw.githubusercontent.com/aeon-tutorials/KDD-2024/main/Notebooks/data/KDD_MTSER_TRAIN.ts -P data/\n",
    "!wget -nc https://raw.githubusercontent.com/aeon-tutorials/KDD-2024/main/Notebooks/data/KDD_MTSER_TEST.ts -P data/\n",
    "!wget -nc https://raw.githubusercontent.com/aeon-tutorials/KDD-2024/main/Notebooks/data/KDD_UTSER_TRAIN.ts -P data/\n",
    "!wget -nc https://raw.githubusercontent.com/aeon-tutorials/KDD-2024/main/Notebooks/data/KDD_UTSER_TEST.ts -P data/"
   ]
  },
  {
   "metadata": {
    "ExecuteTime": {
     "end_time": "2024-08-24T20:36:07.659539Z",
     "start_time": "2024-08-24T20:36:07.656001Z"
    }
   },
   "cell_type": "code",
   "source": [
    "# There are some deprecation warnings present in the notebook, we will ignore them.\n",
    "# Remove this cell if you are interested in finding out what is changing soon, for\n",
    "# aeon there will be big changes in out v1.0.0 release!\n",
    "import warnings\n",
    "\n",
    "warnings.filterwarnings(\"ignore\")"
   ],
   "outputs": [],
   "execution_count": 1
  },
  {
   "cell_type": "code",
   "source": [
    "# load EEG example here\n",
    "from aeon.datasets import load_from_tsfile\n",
    "\n",
    "# Load the univariate EEG TSC dataset as a 3D numpy array\n",
    "X_train_utsc, y_train_utsc = load_from_tsfile(\"./data/KDD_UTSC_TRAIN.ts\")\n",
    "X_test_utsc, y_test_utsc = load_from_tsfile(\"./data/KDD_UTSC_TEST.ts\")\n",
    "\n",
    "print(\"Single channel EEG TSC problem train shape:\", X_train_utsc.shape)\n",
    "print(\"Single channel EEG TSC problem test shape:\", X_test_utsc.shape)\n",
    "\n",
    "# Load the univariate EEG TSC dataset as a 3D numpy array\n",
    "X_train_mtsc, y_train_mtsc = load_from_tsfile(\"./data/KDD_MTSC_TRAIN.ts\")\n",
    "X_test_mtsc, y_test_mtsc = load_from_tsfile(\"./data/KDD_MTSC_TEST.ts\")\n",
    "\n",
    "print(\"Four channel EEG TSC problem train shape:\", X_train_mtsc.shape)\n",
    "print(\"Single channel EEG TSC problem test shape:\", X_test_mtsc.shape)\n",
    "\n",
    "# Load the univariate EEG TSER dataset as a 3D numpy array\n",
    "X_train_utser, y_train_utser = load_from_tsfile(\"./data/KDD_UTSER_TRAIN.ts\")\n",
    "X_test_utser, y_test_utser = load_from_tsfile(\"./data/KDD_UTSER_TEST.ts\")\n",
    "\n",
    "print(\"Single channel EEG TSER problem train shape:\", X_train_utsc.shape)\n",
    "print(\"Single channel EEG TSER problem test shape:\", X_test_utsc.shape)\n",
    "\n",
    "# Load the univariate EEG TSER dataset as a 3D numpy array\n",
    "X_train_mtser, y_train_mtser = load_from_tsfile(\"./data/KDD_MTSER_TRAIN.ts\")\n",
    "X_test_mtser, y_test_mtser = load_from_tsfile(\"./data/KDD_MTSER_TEST.ts\")\n",
    "\n",
    "print(\"Four channel EEG TSER problem train shape:\", X_train_mtser.shape)\n",
    "print(\"Single channel EEG TSER problem test shape:\", X_test_mtser.shape)"
   ],
   "metadata": {
    "collapsed": false,
    "ExecuteTime": {
     "end_time": "2024-08-24T20:36:07.755947Z",
     "start_time": "2024-08-24T20:36:07.660536Z"
    }
   },
   "outputs": [
    {
     "name": "stdout",
     "output_type": "stream",
     "text": [
      "Single channel EEG TSC problem train shape: (40, 1, 100)\n",
      "Single channel EEG TSC problem test shape: (40, 1, 100)\n",
      "Four channel EEG TSC problem train shape: (40, 4, 100)\n",
      "Single channel EEG TSC problem test shape: (40, 4, 100)\n",
      "Single channel EEG TSER problem train shape: (40, 1, 100)\n",
      "Single channel EEG TSER problem test shape: (40, 1, 100)\n",
      "Four channel EEG TSER problem train shape: (72, 4, 100)\n",
      "Single channel EEG TSER problem test shape: (72, 4, 100)\n"
     ]
    }
   ],
   "execution_count": 2
  },
  {
   "cell_type": "markdown",
   "source": [
    "HC2 is not designed to be fast on small examples. For ease of example we can set the contract\n",
    "to reduce the run time and set number of jobs and can be recovered like this."
   ],
   "metadata": {
    "collapsed": false
   }
  },
  {
   "cell_type": "code",
   "source": [
    "from aeon.classification.hybrid import HIVECOTEV2\n",
    "hc2 = HIVECOTEV2(n_jobs =-1, time_limit_in_minutes=2)\n",
    "hc2.fit(X_train_utsc, y_train_utsc)\n",
    "print(\"Single channel EEG TSC problem accuracy:\", hc2.score(X_test_utsc, y_test_utsc))\n",
    "print(\"STC weight = \" + str(hc2.stc_weight_))\n",
    "print(\"DrCIF weight = \" + str(hc2.drcif_weight_))\n",
    "print(\"Arsenal weight = \" + str(hc2.arsenal_weight_))\n",
    "print(\"TDE weight = \" + str(hc2.tde_weight_))"
   ],
   "metadata": {
    "collapsed": false,
    "ExecuteTime": {
     "end_time": "2024-08-24T20:37:34.585338Z",
     "start_time": "2024-08-24T20:36:07.757241Z"
    }
   },
   "outputs": [
    {
     "name": "stdout",
     "output_type": "stream",
     "text": [
      "Single channel EEG TSC problem accuracy: 0.675\n",
      "STC weight = 1.0\n",
      "DrCIF weight = 1.0\n",
      "Arsenal weight = 0.7320941406250001\n",
      "TDE weight = 0.586181640625\n"
     ]
    }
   ],
   "execution_count": 3
  },
  {
   "cell_type": "markdown",
   "source": [
    "## Make your own hybrid estimator\n",
    "\n",
    "HC2 is hard coded as an estimator so we can recreate results and use it as the\n",
    "authors proposed it. However, you can make your own weighted ensemble."
   ],
   "metadata": {
    "collapsed": false
   }
  },
  {
   "cell_type": "code",
   "source": [
    "from aeon.classification import DummyClassifier\n",
    "from aeon.classification.convolution_based import RocketClassifier\n",
    "from aeon.classification.feature_based import FreshPRINCEClassifier\n",
    "from aeon.classification.compose._ensemble import ClassifierEnsemble\n",
    "\n",
    "clf = [DummyClassifier(), RocketClassifier(), FreshPRINCEClassifier()]\n",
    "ens = ClassifierEnsemble(clf, weights=[0.1, 0.3, 0.6])\n",
    "ens.fit(X_train_utsc, y_train_utsc)\n",
    "print(\"Some ensemble accuracy:\", ens.score(X_test_utsc, y_test_utsc))"
   ],
   "metadata": {
    "collapsed": false,
    "ExecuteTime": {
     "end_time": "2024-08-24T20:38:00.397133Z",
     "start_time": "2024-08-24T20:37:34.586336Z"
    }
   },
   "outputs": [
    {
     "name": "stdout",
     "output_type": "stream",
     "text": [
      "Some ensemble accuracy: 0.85\n"
     ]
    }
   ],
   "execution_count": 4
  },
  {
   "cell_type": "markdown",
   "source": [],
   "metadata": {
    "collapsed": false
   }
  }
 ],
 "metadata": {
  "kernelspec": {
   "display_name": "Python 3",
   "language": "python",
   "name": "python3"
  },
  "language_info": {
   "codemirror_mode": {
    "name": "ipython",
    "version": 2
   },
   "file_extension": ".py",
   "mimetype": "text/x-python",
   "name": "python",
   "nbconvert_exporter": "python",
   "pygments_lexer": "ipython2",
   "version": "2.7.6"
  }
 },
 "nbformat": 4,
 "nbformat_minor": 0
}
