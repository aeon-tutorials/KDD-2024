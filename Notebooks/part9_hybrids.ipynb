{
 "cells": [
  {
   "cell_type": "markdown",
   "source": [
    "# Part9: Hybrid classification\n",
    "\n",
    "`aeon` contains two hard coded hybrid classifiers, HIVE-COTEV1 (HC1) and HIVE-COTEV2\n",
    "(HC2). We will just use HC2 in this example.\n",
    "\n"
   ],
   "metadata": {
    "collapsed": false
   }
  },
  {
   "cell_type": "code",
   "execution_count": 1,
   "outputs": [
    {
     "name": "stdout",
     "output_type": "stream",
     "text": [
      "Single channel EEG TSC problem train shape: (40, 1, 100)\n",
      "Single channel EEG TSC problem test shape: (40, 1, 100)\n",
      "Four channel EEG TSC problem train shape: (40, 4, 100)\n",
      "Single channel EEG TSC problem test shape: (40, 4, 100)\n",
      "Single channel EEG TSER problem train shape: (40, 1, 100)\n",
      "Single channel EEG TSER problem test shape: (40, 1, 100)\n",
      "Four channel EEG TSER problem train shape: (72, 4, 100)\n",
      "Single channel EEG TSER problem test shape: (72, 4, 100)\n"
     ]
    }
   ],
   "source": [
    "# There are some deprecation warnings present in the notebook, we will ignore them.\n",
    "# Remove this cell if you are interested in finding out what is changing soon, for\n",
    "# aeon there will be big changes in out v1.0.0 release!\n",
    "import warnings\n",
    "\n",
    "warnings.filterwarnings(\"ignore\")\n",
    "import numpy as np\n",
    "from aeon.datasets import load_classification\n",
    "trainX = np.random.random((20,3, 100)) # Random collection of 20 series, each with 3 channels and 100 timepoints\n",
    "train_labels = np.random.randint(0, 2, 20) # Random labels\n",
    "train_target = np.random.random(20) # Random regression target\n",
    "# load EEG example here\n",
    "\n",
    "from aeon.classification.distance_based import KNeighborsTimeSeriesClassifier\n",
    "from aeon.datasets import load_from_tsfile\n",
    "\n",
    "# Load the univariate EEG TSC dataset as a 3D numpy array\n",
    "X_train_utsc, y_train_utsc = load_from_tsfile(\"./data/KDD_UTSC_TRAIN.ts\")\n",
    "X_test_utsc, y_test_utsc = load_from_tsfile(\"./data/KDD_UTSC_TEST.ts\")\n",
    "\n",
    "print(\"Single channel EEG TSC problem train shape:\", X_train_utsc.shape)\n",
    "print(\"Single channel EEG TSC problem test shape:\", X_test_utsc.shape)\n",
    "\n",
    "# Load the univariate EEG TSC dataset as a 3D numpy array\n",
    "X_train_mtsc, y_train_mtsc = load_from_tsfile(\"./data/KDD_MTSC_TRAIN.ts\")\n",
    "X_test_mtsc, y_test_mtsc = load_from_tsfile(\"./data/KDD_MTSC_TEST.ts\")\n",
    "\n",
    "print(\"Four channel EEG TSC problem train shape:\", X_train_mtsc.shape)\n",
    "print(\"Single channel EEG TSC problem test shape:\", X_test_mtsc.shape)\n",
    "\n",
    "# Load the univariate EEG TSER dataset as a 3D numpy array\n",
    "X_train_utser, y_train_utser = load_from_tsfile(\"./data/KDD_UTSER_TRAIN.ts\")\n",
    "X_test_utser, y_test_utser = load_from_tsfile(\"./data/KDD_UTSER_TEST.ts\")\n",
    "\n",
    "print(\"Single channel EEG TSER problem train shape:\", X_train_utsc.shape)\n",
    "print(\"Single channel EEG TSER problem test shape:\", X_test_utsc.shape)\n",
    "\n",
    "# Load the univariate EEG TSER dataset as a 3D numpy array\n",
    "X_train_mtser, y_train_mtser = load_from_tsfile(\"./data/KDD_MTSER_TRAIN.ts\")\n",
    "X_test_mtser, y_test_mtser = load_from_tsfile(\"./data/KDD_MTSER_TEST.ts\")\n",
    "\n",
    "print(\"Four channel EEG TSER problem train shape:\", X_train_mtser.shape)\n",
    "print(\"Single channel EEG TSER problem test shape:\", X_test_mtser.shape)\n"
   ],
   "metadata": {
    "collapsed": false
   }
  },
  {
   "cell_type": "markdown",
   "source": [
    "HC2 is not designed to be fast on small examples. We can if we want set the contract\n",
    "to reduce the run time and set number of jobs."
   ],
   "metadata": {
    "collapsed": false
   }
  },
  {
   "cell_type": "code",
   "execution_count": 2,
   "outputs": [
    {
     "name": "stdout",
     "output_type": "stream",
     "text": [
      "Single channel EEG TSC problem accuracy: 0.7\n",
      " Component weights= {}\n"
     ]
    }
   ],
   "source": [
    "from aeon.classification.hybrid import HIVECOTEV2\n",
    "hc2 = HIVECOTEV2(n_jobs  = -1, time_limit_in_minutes=2)\n",
    "hc2.fit(X_train_utsc, y_train_utsc)\n",
    "print(\"Single channel EEG TSC problem accuracy:\", hc2.score(X_test_utsc, y_test_utsc))\n",
    "print(\" Component weights=\",hc2.component_probas)"
   ],
   "metadata": {
    "collapsed": false
   }
  },
  {
   "cell_type": "markdown",
   "source": [
    "HC2 weights each component based on an estimate of the accuracy from the train data."
   ],
   "metadata": {
    "collapsed": false
   }
  },
  {
   "cell_type": "markdown",
   "source": [],
   "metadata": {
    "collapsed": false
   }
  }
 ],
 "metadata": {
  "kernelspec": {
   "display_name": "Python 3",
   "language": "python",
   "name": "python3"
  },
  "language_info": {
   "codemirror_mode": {
    "name": "ipython",
    "version": 2
   },
   "file_extension": ".py",
   "mimetype": "text/x-python",
   "name": "python",
   "nbconvert_exporter": "python",
   "pygments_lexer": "ipython2",
   "version": "2.7.6"
  }
 },
 "nbformat": 4,
 "nbformat_minor": 0
}
