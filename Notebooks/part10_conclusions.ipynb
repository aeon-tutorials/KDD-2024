{
 "cells": [
  {
   "cell_type": "markdown",
   "source": [
    "`KDD2024 Tutorial / A Hands-On Introduction to Time Series Classification and Regression`"
   ],
   "metadata": {
    "collapsed": false
   }
  },
  {
   "cell_type": "markdown",
   "source": [
    "# Classifier and regressor capabilities\n",
    "\n",
    "## Univariate Classification\n",
    "\n",
    "To finish off, we build all classifiers and regressors on our example EEG data and\n",
    "compare accuracy. We do not go into depth into the relative performance, because this\n",
    " these are very small toy datasets. We start by listing classifiers by their\n",
    " capabilities"
   ],
   "metadata": {
    "collapsed": false
   }
  },
  {
   "cell_type": "code",
   "execution_count": 26,
   "outputs": [
    {
     "name": "stdout",
     "output_type": "stream",
     "text": [
      "Univariate series only classifiers\n",
      " 0                   BOSSEnsemble\n",
      "1             ClassifierPipeline\n",
      "2               ContractableBOSS\n",
      "3                     HIVECOTEV1\n",
      "4                 IndividualBOSS\n",
      "5                MrSQMClassifier\n",
      "6                  ProximityTree\n",
      "7                RSASTClassifier\n",
      "8                 SASTClassifier\n",
      "9                         WEASEL\n",
      "10                     WEASEL_V2\n",
      "11    WeightedEnsembleClassifier\n",
      "Name: name, dtype: object\n",
      "Univariate only regressors\n",
      " 0    RegressorPipeline\n",
      "Name: name, dtype: object\n",
      "Classifiers that can handle multivariate\n",
      " 0                                      Arsenal\n",
      "1                                CNNClassifier\n",
      "2            CanonicalIntervalForestClassifier\n",
      "3                            Catch22Classifier\n",
      "4                    ChannelEnsembleClassifier\n",
      "5                              DrCIFClassifier\n",
      "6                              DummyClassifier\n",
      "7                              ElasticEnsemble\n",
      "8                            EncoderClassifier\n",
      "9                                FCNClassifier\n",
      "10                       FreshPRINCEClassifier\n",
      "11                                  HIVECOTEV2\n",
      "12                             HydraClassifier\n",
      "13                     InceptionTimeClassifier\n",
      "14               IndividualInceptionClassifier\n",
      "15                    IndividualLITEClassifier\n",
      "16                        IndividualOrdinalTDE\n",
      "17                               IndividualTDE\n",
      "18                    IntervalForestClassifier\n",
      "19              KNeighborsTimeSeriesClassifier\n",
      "20                          LITETimeClassifier\n",
      "21                  LearningShapeletClassifier\n",
      "22                               MLPClassifier\n",
      "23                                        MUSE\n",
      "24                  MultiRocketHydraClassifier\n",
      "25                                  OrdinalTDE\n",
      "26                             QUANTClassifier\n",
      "27                              RDSTClassifier\n",
      "28                                   REDCOMETS\n",
      "29                              RISTClassifier\n",
      "30                                       RSTSF\n",
      "31                    RandomIntervalClassifier\n",
      "32    RandomIntervalSpectralEnsembleClassifier\n",
      "33                            ResNetClassifier\n",
      "34                            RocketClassifier\n",
      "35                 ShapeletTransformClassifier\n",
      "36                         SignatureClassifier\n",
      "37                           SummaryClassifier\n",
      "38                SupervisedIntervalClassifier\n",
      "39                  SupervisedTimeSeriesForest\n",
      "40                           TSFreshClassifier\n",
      "41                            TapNetClassifier\n",
      "42                  TemporalDictionaryEnsemble\n",
      "43                  TimeSeriesForestClassifier\n",
      "Name: name, dtype: object\n",
      "Regressors that can handle multivariate\n",
      " 0                                CNNRegressor\n",
      "1            CanonicalIntervalForestRegressor\n",
      "2                            Catch22Regressor\n",
      "3                              DrCIFRegressor\n",
      "4                              DummyRegressor\n",
      "5                            EncoderRegressor\n",
      "6                                FCNRegressor\n",
      "7                        FreshPRINCERegressor\n",
      "8                              HydraRegressor\n",
      "9                      InceptionTimeRegressor\n",
      "10               IndividualInceptionRegressor\n",
      "11                    IndividualLITERegressor\n",
      "12                    IntervalForestRegressor\n",
      "13              KNeighborsTimeSeriesRegressor\n",
      "14                          LITETimeRegressor\n",
      "15                               MLPRegressor\n",
      "16                  MultiRocketHydraRegressor\n",
      "17                              RDSTRegressor\n",
      "18                              RISTRegressor\n",
      "19                    RandomIntervalRegressor\n",
      "20    RandomIntervalSpectralEnsembleRegressor\n",
      "21                            ResNetRegressor\n",
      "22                            RocketRegressor\n",
      "23                           SummaryRegressor\n",
      "24                           TSFreshRegressor\n",
      "25                            TapNetRegressor\n",
      "26                  TimeSeriesForestRegressor\n",
      "Name: name, dtype: object\n"
     ]
    }
   ],
   "source": [
    "# There are some deprecation warnings present in the notebook, we will ignore them.\n",
    "# Remove this cell if you are interested in finding out what is changing soon, for\n",
    "# aeon there will be big changes in out v1.0.0 release!\n",
    "import warnings\n",
    "\n",
    "warnings.filterwarnings(\"ignore\")\n",
    "from aeon.registry import all_estimators\n",
    "uni_cls=all_estimators(\"classifier\", filter_tags={\"capability:multivariate\": False},\n",
    "               as_dataframe=True)\n",
    "print(\"Univariate series only classifiers\\n\",uni_cls.iloc[:,0])\n",
    "uni_reg=all_estimators(\"regressor\", filter_tags={\"capability:multivariate\": False},\n",
    "               as_dataframe=True)\n",
    "print(\"Univariate only regressors\\n\",uni_reg.iloc[:,0])\n",
    "\n",
    "multi_cls=all_estimators(\"classifier\", filter_tags={\"capability:multivariate\": True},\n",
    "               as_dataframe=True)\n",
    "print(\"Classifiers that can handle multivariate\\n\",multi_cls.iloc[:,0])\n",
    "multi_reg=all_estimators(\"regressor\", filter_tags={\"capability:multivariate\": True},\n",
    "               as_dataframe=True)\n",
    "print(\"Regressors that can handle multivariate\\n\",multi_reg.iloc[:,0])\n"
   ],
   "metadata": {
    "collapsed": false
   }
  },
  {
   "cell_type": "markdown",
   "source": [
    "## Unequal length series\n",
    "\n",
    "Currently few classifiers and regessors support unequal length series and none\n",
    "internally handle missing values. This will change soon. Until then, we advise using\n",
    "padding or truncation\n"
   ],
   "metadata": {
    "collapsed": false
   }
  },
  {
   "cell_type": "code",
   "execution_count": 27,
   "outputs": [
    {
     "name": "stdout",
     "output_type": "stream",
     "text": [
      "Classifiers that can handle unequal length series\n",
      " 0                 Catch22Classifier\n",
      "1                   DummyClassifier\n",
      "2                   ElasticEnsemble\n",
      "3    KNeighborsTimeSeriesClassifier\n",
      "4                    RDSTClassifier\n",
      "Name: name, dtype: object\n",
      "Regressors that can handle unequal length series\n",
      " 0                 Catch22Regressor\n",
      "1                   DummyRegressor\n",
      "2    KNeighborsTimeSeriesRegressor\n",
      "3                    RDSTRegressor\n",
      "Name: name, dtype: object\n"
     ]
    }
   ],
   "source": [
    "uneq_cls=all_estimators(\"classifier\", filter_tags={\"capability:unequal_length\": True},\n",
    "               as_dataframe=True)\n",
    "print(\"Classifiers that can handle unequal length series\\n\",uneq_cls.iloc[:,0])\n",
    "uneq_reg=all_estimators(\"regressor\", filter_tags={\"capability:unequal_length\": True},\n",
    "               as_dataframe=True)\n",
    "print(\"Regressors that can handle unequal length series\\n\",uneq_reg.iloc[:,0])\n"
   ],
   "metadata": {
    "collapsed": false
   }
  },
  {
   "cell_type": "markdown",
   "source": [
    "## Performance on EEG data\n",
    "\n",
    "We can create, fit and predict with these list of classifiers. We will use the EEG\n",
    "data made for this tutorial. Do not interpret much with regard to relative\n",
    "performance, this is for illustrative purposes only. However, the variance in results\n",
    " does suggest that the classifiers work differently. We exclude estimators that\n",
    " require arguments in the constructor such as Pipelines."
   ],
   "metadata": {
    "collapsed": false
   }
  },
  {
   "cell_type": "code",
   "execution_count": 28,
   "outputs": [
    {
     "name": "stdout",
     "output_type": "stream",
     "text": [
      "\n",
      "BOSSEnsemble  accuracy =  0.6\n",
      "\n",
      "ContractableBOSS  accuracy =  0.525\n",
      "\n",
      "HIVECOTEV1  accuracy =  0.875\n",
      "\n",
      "IndividualBOSS  accuracy =  0.525\n",
      "\n",
      "ProximityTree  accuracy =  0.6\n",
      "\n",
      "RSASTClassifier  accuracy =  0.75\n",
      "\n",
      "SASTClassifier  accuracy =  0.75\n",
      "\n",
      "WEASEL  accuracy =  0.725\n",
      "\n",
      "WEASEL_V2  accuracy =  0.55\n"
     ]
    }
   ],
   "source": [
    "from aeon.datasets import load_from_tsfile\n",
    "\n",
    "X_train_c, y_train_c = load_from_tsfile(\"./data/KDD_UTSC_TRAIN.ts\")\n",
    "X_test_c, y_test_c = load_from_tsfile(\"./data/KDD_UTSC_TEST.ts\")\n",
    "\n",
    "for _, c in uni_cls.iterrows():\n",
    "    if c[0] not in [\"ClassifierPipeline\",\"MrSQMClassifier\",\"WeightedEnsembleClassifier\"]:\n",
    "        print()\n",
    "        clf = c[1]()\n",
    "        clf.fit(X_train_c, y_train_c)\n",
    "        print(c[0],\" accuracy = \", clf.score(X_test_c, y_test_c))"
   ],
   "metadata": {
    "collapsed": false
   }
  },
  {
   "cell_type": "markdown",
   "source": [
    "### Multivariate classifiers on the univariate data\n",
    "\n",
    "We can use multivariate classifiers on univariate data (except for MUSE). Some are\n",
    "excluded from this example because they require constructor arguments, are very slow\n",
    "especially on CPU, require non standard imports or generate many warnings on this data. This cell will take a while to execute."
   ],
   "metadata": {
    "collapsed": false
   }
  },
  {
   "cell_type": "code",
   "execution_count": 29,
   "outputs": [
    {
     "name": "stdout",
     "output_type": "stream",
     "text": [
      "\n",
      "Arsenal  accuracy =  0.45\n",
      "\n",
      "\n",
      "CanonicalIntervalForestClassifier  accuracy =  0.75\n",
      "\n",
      "Catch22Classifier  accuracy =  0.725\n",
      "\n",
      "\n",
      "DrCIFClassifier  accuracy =  0.775\n",
      "\n",
      "DummyClassifier  accuracy =  0.5\n",
      "\n",
      "ElasticEnsemble  accuracy =  0.5\n",
      "\n",
      "\n",
      "\n",
      "FreshPRINCEClassifier  accuracy =  0.775\n",
      "\n",
      "\n",
      "HydraClassifier  accuracy =  0.8\n",
      "\n",
      "\n",
      "\n",
      "\u001B[1m1/1\u001B[0m \u001B[32m━━━━━━━━━━━━━━━━━━━━\u001B[0m\u001B[37m\u001B[0m \u001B[1m0s\u001B[0m 258ms/step\n",
      "IndividualLITEClassifier  accuracy =  0.85\n",
      "\n",
      "\n",
      "IndividualTDE  accuracy =  0.625\n",
      "\n",
      "\n",
      "KNeighborsTimeSeriesClassifier  accuracy =  0.55\n",
      "\n",
      "\n",
      "\n",
      "\n",
      "\n",
      "MultiRocketHydraClassifier  accuracy =  0.825\n",
      "\n",
      "\n",
      "QUANTClassifier  accuracy =  0.8\n",
      "\n",
      "RDSTClassifier  accuracy =  0.975\n",
      "\n",
      "\n",
      "RISTClassifier  accuracy =  0.85\n",
      "\n",
      "RSTSF  accuracy =  0.825\n",
      "\n",
      "RandomIntervalClassifier  accuracy =  0.75\n",
      "\n",
      "RandomIntervalSpectralEnsembleClassifier  accuracy =  0.825\n",
      "\n",
      "\n",
      "RocketClassifier  accuracy =  0.425\n",
      "\n",
      "ShapeletTransformClassifier  accuracy =  0.7\n",
      "\n",
      "\n",
      "SummaryClassifier  accuracy =  0.7\n",
      "\n",
      "\n",
      "SupervisedTimeSeriesForest  accuracy =  0.7\n",
      "\n",
      "TSFreshClassifier  accuracy =  0.85\n",
      "\n",
      "\n",
      "TemporalDictionaryEnsemble  accuracy =  0.5\n",
      "\n",
      "TimeSeriesForestClassifier  accuracy =  0.7\n"
     ]
    }
   ],
   "source": [
    "excl = [\"MUSE\", \"EncoderClassifier\", \"ChannelEnsembleClassifier\",\"FCNClassifier\",\n",
    "        \"HIVECOTEV2\", \"IntervalForestClassifier\", \"LearningShapeletClassifier\",\n",
    "        \"InceptionTimeClassifier\",\"IndividualInceptionClassifier\",\n",
    "        \"IndividualOrdinalTDE\",\"OrdinalTDE\",\"TapNetClassifier\",\n",
    "        \"SignatureClassifier\",\"ResNetClassifier\",\"LITETimeClassifier\",\n",
    "        \"IndividualLITETimeClassifier\", \"MLPClassifier\",\"CNNClassifier\",\n",
    "        \"SupervisedIntervalClassifier\",\"REDCOMETS\"]\n",
    "for _, c in multi_cls.iterrows():\n",
    "    print()\n",
    "    if c[0] not in excl:\n",
    "        clf = c[1]()\n",
    "        clf.fit(X_train_c, y_train_c)\n",
    "        print(c[0],\" accuracy = \", clf.score(X_test_c, y_test_c))"
   ],
   "metadata": {
    "collapsed": false
   }
  },
  {
   "cell_type": "markdown",
   "source": [
    "## Regressors on EEG data\n",
    "\n",
    "All of the regressors can handle mulivariate"
   ],
   "metadata": {
    "collapsed": false
   }
  },
  {
   "cell_type": "code",
   "execution_count": null,
   "outputs": [
    {
     "name": "stdout",
     "output_type": "stream",
     "text": [
      "\n",
      "CanonicalIntervalForestRegressor  MSE =  0.8396993322643758\n",
      "\n",
      "Catch22Regressor  MSE =  0.8685300760362452\n",
      "\n",
      "DrCIFRegressor  MSE =  0.7503425832214019\n",
      "\n",
      "DummyRegressor  MSE =  1.3269463963115031\n",
      "\n",
      "FreshPRINCERegressor  MSE =  0.7744590677779031\n",
      "\n",
      "HydraRegressor  MSE =  0.927121008853976\n",
      "\n",
      "IntervalForestRegressor  MSE =  0.8457933318744595\n",
      "\n",
      "KNeighborsTimeSeriesRegressor  MSE =  1.3924300952980344\n",
      "\n"
     ]
    }
   ],
   "source": [
    "from aeon.datasets import load_from_tsfile\n",
    "from sklearn.metrics import mean_squared_error\n",
    "X_train_c, y_train_c = load_from_tsfile(\"./data/KDD_UTSER_TRAIN.ts\")\n",
    "X_test_c, y_test_c = load_from_tsfile(\"./data/KDD_UTSER_TEST.ts\")\n",
    "\n",
    "for _, c in multi_reg.iterrows():\n",
    "    if c[0] not in [\"RegressorPipeline\",\"CNNRegressor\",\"FCNRegressor\",\n",
    "                    \"InceptionTimeRegressor\",\"IndividualInceptionRegressor\",\n",
    "                    \"EncoderRegressor\",\"ResNetRegressor\",\"IndividualLITERegressor\",\"LITERegressor\"]:\n",
    "        print()\n",
    "        clf = c[1]()\n",
    "        clf.fit(X_train_c, y_train_c)\n",
    "        y_pred= clf.predict(X_test_c)\n",
    "        print(c[0],\" MSE = \", mean_squared_error(y_test_c, y_pred))"
   ],
   "metadata": {
    "collapsed": false,
    "pycharm": {
     "is_executing": true
    }
   }
  },
  {
   "cell_type": "markdown",
   "source": [
    "## Performance on archive data\n",
    "\n",
    "We can directly pull published results from our website timeseriesclassification.com.\n",
    " See [this notebook](https://www.aeon-toolkit.org/en/stable/examples/benchmarking/reference_results.html) for more details on how to do this.\n"
   ],
   "metadata": {
    "collapsed": false
   }
  },
  {
   "cell_type": "code",
   "execution_count": 48,
   "outputs": [
    {
     "name": "stdout",
     "output_type": "stream",
     "text": [
      "40  classifier results available\n",
      " ['1NN-DTW', 'Arsenal', 'BOSS', 'CIF', 'CNN', 'Catch22', 'DrCIF', 'EE', 'FreshPRINCE', 'GRAIL', 'H-InceptionTime', 'HC1', 'HC2', 'Hydra', 'InceptionTime', 'LiteTime', 'MR', 'MR-Hydra', 'MiniROCKET', 'MrSQM', 'PF', 'QUANT', 'R-STSF', 'RDST', 'RISE', 'RIST', 'ROCKET', 'RSF', 'ResNet', 'STC', 'STSF', 'ShapeDTW', 'Signatures', 'TDE', 'TS-CHIEF', 'TSF', 'TSFresh', 'WEASEL-1.0', 'WEASEL-2.0', 'cBOSS']\n",
      "(112, 40)\n"
     ]
    },
    {
     "data": {
      "text/plain": "<Figure size 600x270 with 1 Axes>",
      "image/png": "[encoded data removed]"
     },
     "metadata": {},
     "output_type": "display_data"
    }
   ],
   "source": [
    "from aeon.benchmarking import get_available_estimators\n",
    "from aeon.benchmarking.results_loaders import (\n",
    "    get_estimator_results,\n",
    "    get_estimator_results_as_array,\n",
    ")\n",
    "from aeon.visualisation import (\n",
    "    plot_boxplot_median,\n",
    "    plot_critical_difference,\n",
    "    plot_pairwise_scatter,\n",
    ")\n",
    "\n",
    "cls = get_available_estimators(task=\"classification\", return_dataframe=False)\n",
    "print(len(cls), \" classifier results available\\n\", cls)\n",
    "resamples_all, data_names = get_estimator_results_as_array(\n",
    "    estimators=cls, default_only=False\n",
    ")\n",
    "# results are loaded from\n",
    "# https://timeseriesclassification.com/results/ReferenceResults.\n",
    "# You can download the files directly from there\n",
    "print(resamples_all.shape)\n",
    "classifiers = [\n",
    "    \"FreshPRINCE\",\n",
    "    \"HIVECOTEV2\",\n",
    "    \"InceptionTime\",\n",
    "    \"WEASEL-D\",\n",
    "    \"MR-Hydra\",\n",
    "    \"RDST\",\n",
    "    \"QUANT\",\n",
    "    \"PF\"\n",
    "]\n",
    "resamples_all, data_names = get_estimator_results_as_array(\n",
    "    estimators=classifiers, default_only=False\n",
    ")\n",
    "plot = plot_critical_difference(\n",
    "    resamples_all, classifiers, test=\"wilcoxon\", correction=\"holm\"\n",
    ")"
   ],
   "metadata": {
    "collapsed": false
   }
  }
 ],
 "metadata": {
  "kernelspec": {
   "display_name": "Python 3",
   "language": "python",
   "name": "python3"
  },
  "language_info": {
   "codemirror_mode": {
    "name": "ipython",
    "version": 2
   },
   "file_extension": ".py",
   "mimetype": "text/x-python",
   "name": "python",
   "nbconvert_exporter": "python",
   "pygments_lexer": "ipython2",
   "version": "2.7.6"
  }
 },
 "nbformat": 4,
 "nbformat_minor": 0
}
